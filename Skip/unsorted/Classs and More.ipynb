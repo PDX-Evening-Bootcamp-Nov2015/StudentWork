{
 "cells": [
  {
   "cell_type": "code",
   "execution_count": 1,
   "metadata": {
    "collapsed": false
   },
   "outputs": [],
   "source": [
    "class Dog():\n",
    "    \n",
    "    kind = 'canine'\n",
    "\n",
    "    def __init__(self, name, chases_cats):\n",
    "        self.name = name\n",
    "        self.tricks = []    # creates a new empty list for each dog\n",
    "        Pet.__init__((self, Name, \"Dog\"))\n",
    "        self.chases_cats = chases_cats\n",
    "        \n",
    "    def chasesCats(self):\n",
    "        return self.chases_cats\n",
    "\n",
    "    def add_trick(self, trick):\n",
    "        self.tricks.append(trick)\n"
   ]
  },
  {
   "cell_type": "code",
   "execution_count": 30,
   "metadata": {
    "collapsed": false
   },
   "outputs": [
    {
     "ename": "NameError",
     "evalue": "name 'Pet' is not defined",
     "output_type": "error",
     "traceback": [
      "\u001b[1;31m---------------------------------------------------------------------------\u001b[0m",
      "\u001b[1;31mNameError\u001b[0m                                 Traceback (most recent call last)",
      "\u001b[1;32m<ipython-input-30-85136333a91d>\u001b[0m in \u001b[0;36m<module>\u001b[1;34m()\u001b[0m\n\u001b[1;32m----> 1\u001b[1;33m \u001b[0mfido\u001b[0m \u001b[1;33m=\u001b[0m \u001b[0mDog\u001b[0m\u001b[1;33m(\u001b[0m\u001b[1;34m\"Fido\"\u001b[0m\u001b[1;33m,\u001b[0m \u001b[1;32mTrue\u001b[0m\u001b[1;33m)\u001b[0m\u001b[1;33m\u001b[0m\u001b[0m\n\u001b[0m",
      "\u001b[1;32m<ipython-input-29-8f7ed6b42e36>\u001b[0m in \u001b[0;36m__init__\u001b[1;34m(self, name, chases_cats)\u001b[0m\n\u001b[0;32m      6\u001b[0m         \u001b[0mself\u001b[0m\u001b[1;33m.\u001b[0m\u001b[0mname\u001b[0m \u001b[1;33m=\u001b[0m \u001b[0mname\u001b[0m\u001b[1;33m\u001b[0m\u001b[0m\n\u001b[0;32m      7\u001b[0m         \u001b[0mself\u001b[0m\u001b[1;33m.\u001b[0m\u001b[0mtricks\u001b[0m \u001b[1;33m=\u001b[0m \u001b[1;33m[\u001b[0m\u001b[1;33m]\u001b[0m    \u001b[1;31m# creates a new empty list for each dog\u001b[0m\u001b[1;33m\u001b[0m\u001b[0m\n\u001b[1;32m----> 8\u001b[1;33m         \u001b[0mPet\u001b[0m\u001b[1;33m.\u001b[0m\u001b[0m__init__\u001b[0m\u001b[1;33m(\u001b[0m\u001b[1;33m(\u001b[0m\u001b[0mself\u001b[0m\u001b[1;33m,\u001b[0m \u001b[0mName\u001b[0m\u001b[1;33m,\u001b[0m \u001b[1;34m\"Dog\"\u001b[0m\u001b[1;33m)\u001b[0m\u001b[1;33m)\u001b[0m\u001b[1;33m\u001b[0m\u001b[0m\n\u001b[0m\u001b[0;32m      9\u001b[0m         \u001b[0mself\u001b[0m\u001b[1;33m.\u001b[0m\u001b[0mchases_cats\u001b[0m \u001b[1;33m=\u001b[0m \u001b[0mchases_cats\u001b[0m\u001b[1;33m\u001b[0m\u001b[0m\n\u001b[0;32m     10\u001b[0m \u001b[1;33m\u001b[0m\u001b[0m\n",
      "\u001b[1;31mNameError\u001b[0m: name 'Pet' is not defined"
     ]
    }
   ],
   "source": [
    "fido = Dog(\"Fido\", True)"
   ]
  },
  {
   "cell_type": "code",
   "execution_count": 15,
   "metadata": {
    "collapsed": true
   },
   "outputs": [],
   "source": [
    "d = Dog('Cujo')"
   ]
  },
  {
   "cell_type": "code",
   "execution_count": 16,
   "metadata": {
    "collapsed": true
   },
   "outputs": [],
   "source": [
    "d.add_trick(\"Roll Over\")"
   ]
  },
  {
   "cell_type": "code",
   "execution_count": 18,
   "metadata": {
    "collapsed": true
   },
   "outputs": [],
   "source": [
    "d2 = Dog('Spot')"
   ]
  },
  {
   "cell_type": "code",
   "execution_count": 21,
   "metadata": {
    "collapsed": false
   },
   "outputs": [
    {
     "data": {
      "text/plain": [
       "'Spot'"
      ]
     },
     "execution_count": 21,
     "metadata": {},
     "output_type": "execute_result"
    }
   ],
   "source": [
    "'Spot'"
   ]
  },
  {
   "cell_type": "code",
   "execution_count": 23,
   "metadata": {
    "collapsed": true
   },
   "outputs": [],
   "source": [
    "d.kind = \"Doggy\""
   ]
  },
  {
   "cell_type": "code",
   "execution_count": 24,
   "metadata": {
    "collapsed": false,
    "scrolled": true
   },
   "outputs": [
    {
     "ename": "NameError",
     "evalue": "name 'tricks' is not defined",
     "output_type": "error",
     "traceback": [
      "\u001b[1;31m---------------------------------------------------------------------------\u001b[0m",
      "\u001b[1;31mNameError\u001b[0m                                 Traceback (most recent call last)",
      "\u001b[1;32m<ipython-input-24-4dfa4b965682>\u001b[0m in \u001b[0;36m<module>\u001b[1;34m()\u001b[0m\n\u001b[1;32m----> 1\u001b[1;33m \u001b[0mtricks\u001b[0m\u001b[1;33m\u001b[0m\u001b[0m\n\u001b[0m",
      "\u001b[1;31mNameError\u001b[0m: name 'tricks' is not defined"
     ]
    }
   ],
   "source": [
    "tricks\n"
   ]
  },
  {
   "cell_type": "code",
   "execution_count": 3,
   "metadata": {
    "collapsed": true
   },
   "outputs": [],
   "source": [
    "class Person:\n",
    "\n",
    "    def __init__(self, first, last):\n",
    "        self.firstname = first\n",
    "        self.lastname = last\n",
    "\n",
    "    def full_name(self):\n",
    "        return self.firstname + \" \" + self.lastname\n",
    "\n",
    "    def introduce(self):\n",
    "        print(\"Hello, my name is {}\".format(self.full_name()))"
   ]
  },
  {
   "cell_type": "code",
   "execution_count": 4,
   "metadata": {
    "collapsed": false
   },
   "outputs": [],
   "source": [
    "p = Person(\"Oliver\", \"Bradley\")"
   ]
  },
  {
   "cell_type": "code",
   "execution_count": null,
   "metadata": {
    "collapsed": true
   },
   "outputs": [],
   "source": [
    "p.full_name()"
   ]
  },
  {
   "cell_type": "code",
   "execution_count": null,
   "metadata": {
    "collapsed": true
   },
   "outputs": [],
   "source": [
    "\n",
    "​\n",
    "​\n",
    "# In[94]:\n",
    "​\n",
    "\n",
    "​\n",
    "​\n",
    "# In[ ]:\n",
    "​\n",
    "​\n",
    "​\n",
    "​\n",
    "# In[71]:\n",
    "​\n",
    "p.full_name()\n",
    "​\n",
    "​\n",
    "# In[68]:\n",
    "​\n",
    "p.introduce()\n",
    "​\n",
    "​\n",
    "# In[78]:\n",
    "​\n",
    "class Employee(Person):\n",
    "​\n",
    "    def __init__(self, first, last, staffnum):\n",
    "        Person.__init__(self,first, last)\n",
    "        self.staffnumber = staffnum\n",
    "​\n",
    "    def get_employee(self):\n",
    "        return self.full_name() + \", \" +  str(self.staffnumber)\n",
    "​\n",
    "​\n",
    "# In[79]:\n",
    "​\n",
    "e = Employee(\"Oliver\", \"Bradley\", 101)\n",
    "​\n",
    "​\n",
    "# In[80]:\n",
    "​\n",
    "e.get_employee()\n",
    "​\n",
    "​\n",
    "# In[ ]:\n",
    "​\n",
    "​\n",
    "​\n",
    "​\n",
    "# In[ ]:\n",
    "​\n",
    "​\n",
    "​\n",
    "​\n",
    "# In[84]:\n",
    "​\n",
    "class Pet:\n",
    "​\n",
    "    def __init__(self, name, species):\n",
    "        self.name = name\n",
    "        self.species = species\n",
    "​\n",
    "    def getName(self):\n",
    "        return self.name\n",
    "​\n",
    "    def getSpecies(self):\n",
    "        return self.species\n",
    "​\n",
    "    def __str__(self):\n",
    "        return \"{} is a {}\".format(self.name, self.species)\n",
    "​\n",
    "​\n",
    "# In[85]:\n",
    "​\n",
    "dog = Pet(\"Fido\", \"canine\")\n",
    "​\n",
    "print(dog)\n",
    "# In[86]:\n",
    "​\n",
    "print(dog)\n",
    "​\n",
    "​\n",
    "# In[ ]:\n",
    "​\n",
    "​\n",
    "​\n",
    "​\n",
    "# In[87]:\n",
    "​\n",
    "# subclass of the class Pet\n",
    "class Dog(Pet):\n",
    "​\n",
    "    def __init__(self, name, chases_cats):\n",
    "        Pet.__init__(self, name, \"Dog\")\n",
    "        self.chases_cats = chases_cats\n",
    "​\n",
    "    def chasesCats(self):\n",
    "        return self.chases_cats\n",
    "​\n",
    "​\n",
    "# In[88]:\n",
    "​\n",
    "fido = Dog(\"Fido\", True)\n",
    "​\n",
    "​\n",
    "# In[89]:\n",
    "​\n",
    "print(fido)\n",
    "​\n",
    "​\n",
    "# In[90]:\n",
    "​\n",
    "fido.species\n",
    "​\n",
    "​\n",
    "#\n",
    "​\n",
    "# In[91]:\n",
    "​\n",
    "fido.name\n",
    "​\n",
    "​\n",
    "# In[92]:\n",
    "​\n",
    "fido.chasesCats()"
   ]
  }
 ],
 "metadata": {
  "kernelspec": {
   "display_name": "Python 3",
   "language": "python",
   "name": "python3"
  },
  "language_info": {
   "codemirror_mode": {
    "name": "ipython",
    "version": 3
   },
   "file_extension": ".py",
   "mimetype": "text/x-python",
   "name": "python",
   "nbconvert_exporter": "python",
   "pygments_lexer": "ipython3",
   "version": "3.5.0"
  }
 },
 "nbformat": 4,
 "nbformat_minor": 0
}
