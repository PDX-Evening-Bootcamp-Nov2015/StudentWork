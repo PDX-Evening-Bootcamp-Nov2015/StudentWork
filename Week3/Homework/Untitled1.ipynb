{
 "cells": [
  {
   "cell_type": "code",
   "execution_count": 1,
   "metadata": {
    "collapsed": false
   },
   "outputs": [
    {
     "ename": "SyntaxError",
     "evalue": "invalid syntax (<ipython-input-1-8f04802394c8>, line 8)",
     "output_type": "error",
     "traceback": [
      "\u001b[1;36m  File \u001b[1;32m\"<ipython-input-1-8f04802394c8>\"\u001b[1;36m, line \u001b[1;32m8\u001b[0m\n\u001b[1;33m    match=set([('(',')')]), ('[',']'), ('{','}')])\u001b[0m\n\u001b[1;37m                                                ^\u001b[0m\n\u001b[1;31mSyntaxError\u001b[0m\u001b[1;31m:\u001b[0m invalid syntax\n"
     ]
    }
   ],
   "source": [
    "\n",
    "\n",
    "\n",
    "def isBalanced(expr):\n",
    "    if len(expr)%2==0:\n",
    "        return False\n",
    "    opening=set('([{')\n",
    "    match=set([('(',')')]), ('[',']'), ('{','}')])\n",
    "    stack=[]\n",
    "    for char in expr:\n",
    "        if char in opening:\n",
    "            stack.append(char)\n",
    "        else:\n",
    "            if len(stack)==0:\n",
    "                return False\n",
    "            lastOpen=stack.pop()\n",
    "            if (lastOpen, char) not in match:\n",
    "                return False\n",
    "    return len(stack)==0\n",
    "print(isBalanced(\"how(are you\"))\n"
   ]
  },
  {
   "cell_type": "code",
   "execution_count": null,
   "metadata": {
    "collapsed": true
   },
   "outputs": [],
   "source": []
  }
 ],
 "metadata": {
  "kernelspec": {
   "display_name": "Python 3",
   "language": "python",
   "name": "python3"
  },
  "language_info": {
   "codemirror_mode": {
    "name": "ipython",
    "version": 3
   },
   "file_extension": ".py",
   "mimetype": "text/x-python",
   "name": "python",
   "nbconvert_exporter": "python",
   "pygments_lexer": "ipython3",
   "version": "3.5.0"
  }
 },
 "nbformat": 4,
 "nbformat_minor": 0
}
