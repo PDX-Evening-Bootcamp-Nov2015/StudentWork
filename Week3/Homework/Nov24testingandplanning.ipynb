{
 "cells": [
  {
   "cell_type": "code",
   "execution_count": null,
   "metadata": {
    "collapsed": true
   },
   "outputs": [],
   "source": [
    "# testing and Modularity - keep pieces small\n",
    "\n",
    "def func(a)\n",
    ",\n",
    ",\n",
    ",\n",
    ",\n",
    ", \n",
    "return\n",
    "\n",
    "def func(b)\n",
    ",\n",
    ",\n",
    ",\n",
    ",\n",
    "return"
   ]
  },
  {
   "cell_type": "code",
   "execution_count": null,
   "metadata": {
    "collapsed": false
   },
   "outputs": [],
   "source": [
    "#scope  "
   ]
  },
  {
   "cell_type": "code",
   "execution_count": null,
   "metadata": {
    "collapsed": true
   },
   "outputs": [],
   "source": [
    "\n",
    "\n",
    "#A  B                          Assert func(1,2)==3\n",
    "#Generate A + B\n",
    "\n",
    "Def func(num1, num2):       #  Assert func(2,2) == 4\n",
    "                            #  Assert func(\"a\", \"a')==None\n",
    "if Type(num1)== int and ________:\n",
    "   \n",
    "    return num1 + num2              # Assert (5.2 + 7.3) ==12.5\n",
    "else:\n",
    "     reutrn None                    # Assert func(None, None) == None\n",
    "\n",
    "Def func(num1, num2):\n",
    "    Try:\n",
    "        Return num1 + num2\n",
    "        \n",
    "    Except:\n",
    "        Return None\n",
    "        \n"
   ]
  },
  {
   "cell_type": "code",
   "execution_count": 48,
   "metadata": {
    "collapsed": false
   },
   "outputs": [
    {
     "name": "stdout",
     "output_type": "stream",
     "text": [
      "type any number .35\n",
      "1\n",
      "2\n",
      "Fizz\n",
      "4\n",
      "Buzz\n",
      "Fizz\n",
      "7\n",
      "8\n",
      "Fizz\n",
      "Buzz\n",
      "11\n",
      "Fizz\n",
      "13\n",
      "14\n",
      "FizzBuzz\n",
      "16\n",
      "17\n",
      "Fizz\n",
      "19\n",
      "Buzz\n",
      "Fizz\n",
      "22\n",
      "23\n",
      "Fizz\n",
      "Buzz\n",
      "26\n",
      "Fizz\n",
      "28\n",
      "29\n",
      "FizzBuzz\n",
      "31\n",
      "32\n",
      "Fizz\n",
      "34\n",
      "Buzz\n"
     ]
    }
   ],
   "source": [
    "def main():\n",
    "    user = eval(input(\"type any number .\"))\n",
    "    assert type(user) == int\n",
    "    Fizzlist = Gen(user)\n",
    "    \n",
    "    for n in Fizzlist:\n",
    "        print(Div3515(n))\n",
    "        \n",
    "main()\n",
    "\n",
    "    "
   ]
  },
  {
   "cell_type": "code",
   "execution_count": 43,
   "metadata": {
    "collapsed": false
   },
   "outputs": [],
   "source": [
    "#Fizzbuzz\n",
    "\n",
    "\n",
    "# print a list of all numbers up to and including N(inclusive)\n",
    "#for all n's % 3 == 0 \"Fizz\"\n",
    "#for all n's % 5 == 0 \"\"Buzz\"\n",
    "#for  all n's both %3 and %5 == 0 = \"FizzBuzz\"\n",
    "\n",
    "#for  all n's both %3 and %5 == 0 = \"FizzBuzz\"\n",
    "\n",
    "\n",
    "\n",
    "#Assert len(Gen(100))\n",
    "\n",
    "\n",
    "def Gen(n):\n",
    "    l = []\n",
    "    \n",
    "    for x in range(1, n+1):\n",
    "        l.append(x)\n",
    "        \n",
    "    \n",
    "    return l\n",
    "   \n",
    "\n",
    "assert len(Gen(100)) == 100\n",
    "assert Gen(5) == [1,2,3,4,5]\n",
    "\n",
    "\n",
    "def Div3515(n):\n",
    "       \n",
    "     \n",
    "        if n % 15 == 0:\n",
    "            return 'FizzBuzz'\n",
    "        elif n % 5 == 0:\n",
    "            return 'Buzz'\n",
    "        elif n % 3 == 0:\n",
    "            return 'Fizz'\n",
    "        return n\n",
    "   \n",
    "    \n",
    "    \n",
    "assert Div3515(3)=='Fizz'\n",
    "assert Div3515(5)=='Buzz'\n",
    "assert Div3515(15)=='FizzBuzz'\n",
    "assert Div3515(7)==7\n",
    "\n",
    "\n"
   ]
  },
  {
   "cell_type": "code",
   "execution_count": 44,
   "metadata": {
    "collapsed": false
   },
   "outputs": [
    {
     "ename": "SyntaxError",
     "evalue": "invalid syntax (<ipython-input-44-6441578d2421>, line 1)",
     "output_type": "error",
     "traceback": [
      "\u001b[1;36m  File \u001b[1;32m\"<ipython-input-44-6441578d2421>\"\u001b[1;36m, line \u001b[1;32m1\u001b[0m\n\u001b[1;33m    num = input(\"type a number between 50 and 100\". )\u001b[0m\n\u001b[1;37m                                                    ^\u001b[0m\n\u001b[1;31mSyntaxError\u001b[0m\u001b[1;31m:\u001b[0m invalid syntax\n"
     ]
    }
   ],
   "source": [
    "\n",
    "\n",
    "def FB(num):\n",
    "\n",
    "    fizzlist = []\n",
    "    \n",
    "    for x in range(1, n+1):\n",
    "        fizzlist.append(x)\n",
    "     \n",
    "        if n % 15 == 0:\n",
    "            return 'FizzBuzz'\n",
    "        elif n % 5 == 0:\n",
    "            return 'Buzz'\n",
    "        elif n % 3 == 0:\n",
    "            return 'Fizz'\n",
    "        return n\n",
    "    \n",
    "print(FB(fizzlist))    \n",
    "   \n",
    "    \n",
    "    \n",
    "assert Div3515(3)=='Fizz'\n",
    "assert Div3515(5)=='Buzz'\n",
    "assert Div3515(15)=='FizzBuzz'\n",
    "assert Div3515(7)==7\n"
   ]
  },
  {
   "cell_type": "code",
   "execution_count": null,
   "metadata": {
    "collapsed": true
   },
   "outputs": [],
   "source": []
  }
 ],
 "metadata": {
  "kernelspec": {
   "display_name": "Python 3",
   "language": "python",
   "name": "python3"
  },
  "language_info": {
   "codemirror_mode": {
    "name": "ipython",
    "version": 3
   },
   "file_extension": ".py",
   "mimetype": "text/x-python",
   "name": "python",
   "nbconvert_exporter": "python",
   "pygments_lexer": "ipython3",
   "version": "3.5.0"
  }
 },
 "nbformat": 4,
 "nbformat_minor": 0
}
