{
 "cells": [
  {
   "cell_type": "code",
   "execution_count": 2,
   "metadata": {
    "collapsed": false
   },
   "outputs": [
    {
     "name": "stdout",
     "output_type": "stream",
     "text": [
      "False\n"
     ]
    }
   ],
   "source": [
    "def isBalanced(expr):\n",
    "    if len(expr)%2==0:\n",
    "        return False\n",
    "    opening=set('([{')\n",
    "    match=set([('(',')'), ('[',']'), ('{','}')])\n",
    "    stack=[]\n",
    "    for char in expr:\n",
    "        if char in opening:\n",
    "            stack.append(char)\n",
    "        else:\n",
    "            if len(stack)==0:\n",
    "                return False\n",
    "            lastOpen=stack.pop()\n",
    "            if (lastOpen, char) not in match:\n",
    "                return False\n",
    "    return len(stack)==0\n",
    "print(isBalanced(\"how(are you\"))\n"
   ]
  },
  {
   "cell_type": "code",
   "execution_count": null,
   "metadata": {
    "collapsed": true
   },
   "outputs": [],
   "source": []
  }
 ],
 "metadata": {
  "kernelspec": {
   "display_name": "Python 3",
   "language": "python",
   "name": "python3"
  },
  "language_info": {
   "codemirror_mode": {
    "name": "ipython",
    "version": 3
   },
   "file_extension": ".py",
   "mimetype": "text/x-python",
   "name": "python",
   "nbconvert_exporter": "python",
   "pygments_lexer": "ipython3",
   "version": "3.5.0"
  }
 },
 "nbformat": 4,
 "nbformat_minor": 0
}
